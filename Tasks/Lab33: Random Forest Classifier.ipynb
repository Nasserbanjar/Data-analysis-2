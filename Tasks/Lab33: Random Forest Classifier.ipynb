{
 "cells": [
  {
   "cell_type": "code",
   "execution_count": 1,
   "metadata": {},
   "outputs": [
    {
     "name": "stdout",
     "output_type": "stream",
     "text": [
      "   Pclass     Sex  Age  SibSp  Parch   Fare  Survived\n",
      "0       3    male   17      4      4  53.66         1\n",
      "1       1    male   60      2      0  40.03         0\n",
      "2       3    male   64      0      1  81.24         0\n",
      "3       3    male   35      5      1  50.62         1\n",
      "4       1  female   70      5      4  26.51         0\n"
     ]
    }
   ],
   "source": [
    "# Import necessary libraries\n",
    "import pandas as pd\n",
    "import numpy as np\n",
    "\n",
    "# Set random seed for reproducibility\n",
    "np.random.seed(42)\n",
    "\n",
    "# Number of samples to generate\n",
    "n_samples = 1000\n",
    "\n",
    "# Generate random data for Titanic-like dataset\n",
    "data = {\n",
    "    'Pclass': np.random.choice([1, 2, 3], size=n_samples), # Passenger class\n",
    "    'Sex': np.random.choice(['male', 'female'], size=n_samples), # Gender\n",
    "    'Age': np.random.randint(1, 80, size=n_samples), # Age between 1 and 80\n",
    "    'SibSp': np.random.randint(0, 6, size=n_samples), # Number of siblings/spouses aboard\n",
    "    'Parch': np.random.randint(0, 6, size=n_samples), # Number of parents/children aboard\n",
    "    'Fare': np.round(np.random.uniform(10, 100, size=n_samples), 2), # Fare between 10 and 100\n",
    "    'Survived': np.random.choice([0, 1], size=n_samples) # Survival (0 = No, 1 = Yes)\n",
    "}\n",
    "\n",
    "# Create DataFrame\n",
    "titanic_data = pd.DataFrame(data)\n",
    "\n",
    "# Display first 5 rows of the generated dataset\n",
    "print(titanic_data.head())\n",
    "\n",
    "# Save the generated data to a CSV file\n",
    "titanic_data.to_csv('generated_titanic_dataset.csv', index=False)\n",
    "\n"
   ]
  },
  {
   "cell_type": "code",
   "execution_count": null,
   "metadata": {},
   "outputs": [],
   "source": [
    "# Import necessary libraries\n",
    "import pandas as pd\n",
    "from sklearn.datasets import fetch_california_housing\n",
    "from sklearn.model_selection import train_test_split\n",
    "from sklearn.ensemble import RandomForestRegressor\n",
    "from sklearn.metrics import mean_squared_error, r2_score\n",
    "\n",
    "# Load the California Housing dataset\n",
    "california_housing = fetch_california_housing()\n",
    "california_data = pd.DataFrame(california_housing.data, columns=california_housing.feature_names)\n",
    "california_data['MEDV'] = california_housing.target\n",
    "\n",
    "# Select relevant features and target variable\n",
    "X = california_data.drop('MEDV', axis=1)\n",
    "y = california_data['MEDV']\n",
    "\n",
    "# Split the dataset into training and testing sets\n",
    "X_train, X_test, y_train, y_test = train_test_split(X, y, test_size=0.2, random_state=42)\n",
    "\n",
    "# Create a Random Forest Regressor\n",
    "rf_regressor = RandomForestRegressor(n_estimators=100, random_state=42)\n",
    "\n",
    "# Train the regressor\n",
    "rf_regressor.fit(X_train, y_train)\n",
    "\n",
    "# Make predictions on the test set\n",
    "y_pred = rf_regressor.predict(X_test)\n",
    "\n",
    "# Evaluate the model\n",
    "mse = mean_squared_error(y_test, y_pred)\n",
    "r2 = r2_score(y_test, y_pred)\n",
    "\n",
    "# Print the results\n",
    "print(f&quot;Mean Squared Error: {mse:.2f}&quot;)\n",
    "print(f&quot;R-squared Score: {r2:.2f}&quot;)\n"
   ]
  }
 ],
 "metadata": {
  "kernelspec": {
   "display_name": "Python 3",
   "language": "python",
   "name": "python3"
  },
  "language_info": {
   "codemirror_mode": {
    "name": "ipython",
    "version": 3
   },
   "file_extension": ".py",
   "mimetype": "text/x-python",
   "name": "python",
   "nbconvert_exporter": "python",
   "pygments_lexer": "ipython3",
   "version": "3.12.1"
  }
 },
 "nbformat": 4,
 "nbformat_minor": 2
}
